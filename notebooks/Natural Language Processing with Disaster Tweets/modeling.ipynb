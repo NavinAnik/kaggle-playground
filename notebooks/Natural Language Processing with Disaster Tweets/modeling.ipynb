{
 "cells": [
  {
   "cell_type": "code",
   "id": "initial_id",
   "metadata": {
    "collapsed": true,
    "ExecuteTime": {
     "end_time": "2025-06-07T01:57:00.541793Z",
     "start_time": "2025-06-07T01:56:59.515571Z"
    }
   },
   "source": [
    "import pandas as pd\n",
    "import numpy as np\n",
    "import re\n",
    "import string\n",
    "import nltk\n",
    "from sklearn.model_selection import train_test_split\n",
    "from sklearn.metrics import accuracy_score, f1_score\n",
    "from sklearn.feature_extraction.text import TfidfVectorizer\n",
    "from sklearn.linear_model import LogisticRegression\n",
    "from xgboost import XGBClassifier\n",
    "from lightgbm import LGBMClassifier\n",
    "\n",
    "nltk.download('stopwords')\n",
    "from nltk.corpus import stopwords\n",
    "stop_words = set(stopwords.words('english'))"
   ],
   "outputs": [
    {
     "name": "stderr",
     "output_type": "stream",
     "text": [
      "[nltk_data] Downloading package stopwords to /Users/navin/nltk_data...\n",
      "[nltk_data]   Package stopwords is already up-to-date!\n"
     ]
    }
   ],
   "execution_count": 1
  },
  {
   "metadata": {
    "ExecuteTime": {
     "end_time": "2025-06-07T01:57:52.404747Z",
     "start_time": "2025-06-07T01:57:52.376545Z"
    }
   },
   "cell_type": "code",
   "source": [
    "train_df = pd.read_csv('datasets/train.csv')\n",
    "test_df = pd.read_csv('datasets/test.csv')"
   ],
   "id": "17b430d2426b3d80",
   "outputs": [],
   "execution_count": 2
  },
  {
   "metadata": {
    "ExecuteTime": {
     "end_time": "2025-06-07T01:58:05.923271Z",
     "start_time": "2025-06-07T01:58:05.842077Z"
    }
   },
   "cell_type": "code",
   "source": [
    "def clean_text(text):\n",
    "    text = text.lower()\n",
    "    text = re.sub(r\"http\\S+|www\\S+\", \"\", text)            # URLs\n",
    "    text = re.sub(r\"@[A-Za-z0-9_]+\", \"\", text)            # Mentions\n",
    "    text = re.sub(r\"#[A-Za-z0-9_]+\", \"\", text)            # Hashtags\n",
    "    text = re.sub(r\"[^\\w\\s]\", \"\", text)                   # Punctuation\n",
    "    text = re.sub(r\"\\d+\", \"\", text)                       # Numbers\n",
    "    text = \" \".join([word for word in text.split() if word not in stop_words])  # Stopwords\n",
    "    return text\n",
    "\n",
    "train_df['clean_text'] = train_df['text'].apply(clean_text)\n",
    "test_df['clean_text'] = test_df['text'].apply(clean_text)"
   ],
   "id": "327393252571334d",
   "outputs": [],
   "execution_count": 3
  },
  {
   "metadata": {
    "ExecuteTime": {
     "end_time": "2025-06-07T01:58:18.393685Z",
     "start_time": "2025-06-07T01:58:18.260005Z"
    }
   },
   "cell_type": "code",
   "source": [
    "vectorizer = TfidfVectorizer(max_features=10000, ngram_range=(1,2))\n",
    "X = vectorizer.fit_transform(train_df['clean_text'])\n",
    "X_test = vectorizer.transform(test_df['clean_text'])\n",
    "y = train_df['target']"
   ],
   "id": "7ec52312c2ceeb87",
   "outputs": [],
   "execution_count": 4
  },
  {
   "metadata": {
    "ExecuteTime": {
     "end_time": "2025-06-07T01:58:29.047864Z",
     "start_time": "2025-06-07T01:58:29.039236Z"
    }
   },
   "cell_type": "code",
   "source": [
    "X_train, X_val, y_train, y_val = train_test_split(\n",
    "    X, y, test_size=0.2, stratify=y, random_state=42\n",
    ")"
   ],
   "id": "dae0fc202a109d70",
   "outputs": [],
   "execution_count": 5
  },
  {
   "metadata": {
    "ExecuteTime": {
     "end_time": "2025-06-07T01:59:36.438178Z",
     "start_time": "2025-06-07T01:59:35.117761Z"
    }
   },
   "cell_type": "code",
   "source": [
    "models = {\n",
    "    \"Logistic Regression\": LogisticRegression(max_iter=1000),\n",
    "    \"XGBoost\": XGBClassifier(use_label_encoder=False, eval_metric='logloss'),\n",
    "    \"LightGBM\": LGBMClassifier()\n",
    "}\n",
    "\n",
    "best_model = None\n",
    "best_f1 = 0\n",
    "\n",
    "for name, model in models.items():\n",
    "    model.fit(X_train, y_train)\n",
    "    preds = model.predict(X_val)\n",
    "    acc = accuracy_score(y_val, preds)\n",
    "    f1 = f1_score(y_val, preds)\n",
    "    print(f\"{name} → Accuracy: {acc:.4f} | F1 Score: {f1:.4f}\")\n",
    "\n",
    "    if f1 > best_f1:\n",
    "        best_f1 = f1\n",
    "        best_model = model\n",
    "    print(\"Best Model:\", best_model.__class__.__name__, \"with F1 Score:\", best_f1)\n"
   ],
   "id": "eca67fe11687ea03",
   "outputs": [
    {
     "name": "stdout",
     "output_type": "stream",
     "text": [
      "Logistic Regression → Accuracy: 0.8109 | F1 Score: 0.7555\n",
      "Best Model: LogisticRegression with F1 Score: 0.7555178268251274\n"
     ]
    },
    {
     "name": "stderr",
     "output_type": "stream",
     "text": [
      "/Users/navin/Documents/Anik/GitHub/kaggle-playground/.venv/lib/python3.10/site-packages/xgboost/training.py:183: UserWarning: [07:59:35] WARNING: /Users/runner/work/xgboost/xgboost/src/learner.cc:738: \n",
      "Parameters: { \"use_label_encoder\" } are not used.\n",
      "\n",
      "  bst.update(dtrain, iteration=i, fobj=obj)\n"
     ]
    },
    {
     "name": "stdout",
     "output_type": "stream",
     "text": [
      "XGBoost → Accuracy: 0.7873 | F1 Score: 0.7226\n",
      "Best Model: LogisticRegression with F1 Score: 0.7555178268251274\n",
      "[LightGBM] [Info] Number of positive: 2617, number of negative: 3473\n",
      "[LightGBM] [Info] Auto-choosing col-wise multi-threading, the overhead of testing was 0.029121 seconds.\n",
      "You can set `force_col_wise=true` to remove the overhead.\n",
      "[LightGBM] [Info] Total Bins 7495\n",
      "[LightGBM] [Info] Number of data points in the train set: 6090, number of used features: 589\n",
      "[LightGBM] [Info] [binary:BoostFromScore]: pavg=0.429721 -> initscore=-0.282990\n",
      "[LightGBM] [Info] Start training from score -0.282990\n",
      "LightGBM → Accuracy: 0.7866 | F1 Score: 0.7325\n",
      "Best Model: LogisticRegression with F1 Score: 0.7555178268251274\n"
     ]
    },
    {
     "name": "stderr",
     "output_type": "stream",
     "text": [
      "/Users/navin/Documents/Anik/GitHub/kaggle-playground/.venv/lib/python3.10/site-packages/sklearn/utils/validation.py:2739: UserWarning: X does not have valid feature names, but LGBMClassifier was fitted with feature names\n",
      "  warnings.warn(\n"
     ]
    }
   ],
   "execution_count": 7
  },
  {
   "metadata": {},
   "cell_type": "code",
   "outputs": [],
   "execution_count": null,
   "source": "",
   "id": "df83e417c8da6647"
  }
 ],
 "metadata": {
  "kernelspec": {
   "display_name": "Python 3",
   "language": "python",
   "name": "python3"
  },
  "language_info": {
   "codemirror_mode": {
    "name": "ipython",
    "version": 2
   },
   "file_extension": ".py",
   "mimetype": "text/x-python",
   "name": "python",
   "nbconvert_exporter": "python",
   "pygments_lexer": "ipython2",
   "version": "2.7.6"
  }
 },
 "nbformat": 4,
 "nbformat_minor": 5
}
