{
 "cells": [
  {
   "cell_type": "code",
   "id": "initial_id",
   "metadata": {
    "collapsed": true,
    "ExecuteTime": {
     "end_time": "2025-06-07T02:02:55.522100Z",
     "start_time": "2025-06-07T02:02:51.853720Z"
    }
   },
   "source": [
    "import pandas as pd\n",
    "import numpy as np\n",
    "import torch\n",
    "import torch.nn as nn\n",
    "from torch.utils.data import Dataset, DataLoader\n",
    "from transformers import BertTokenizer, BertModel\n",
    "from sklearn.model_selection import train_test_split\n",
    "from sklearn.metrics import accuracy_score, f1_score"
   ],
   "outputs": [
    {
     "name": "stderr",
     "output_type": "stream",
     "text": [
      "/Users/navin/Documents/Anik/GitHub/kaggle-playground/.venv/lib/python3.10/site-packages/tqdm/auto.py:21: TqdmWarning: IProgress not found. Please update jupyter and ipywidgets. See https://ipywidgets.readthedocs.io/en/stable/user_install.html\n",
      "  from .autonotebook import tqdm as notebook_tqdm\n"
     ]
    }
   ],
   "execution_count": 1
  },
  {
   "metadata": {
    "ExecuteTime": {
     "end_time": "2025-06-07T02:03:23.154455Z",
     "start_time": "2025-06-07T02:03:23.127214Z"
    }
   },
   "cell_type": "code",
   "source": [
    "train_df = pd.read_csv(\"datasets/train.csv\")\n",
    "test_df = pd.read_csv(\"datasets/test.csv\")\n",
    "\n",
    "train_df['text'] = train_df['text'].fillna(\"\")\n",
    "test_df['text'] = test_df['text'].fillna(\"\")"
   ],
   "id": "aa7552d38c5fe519",
   "outputs": [],
   "execution_count": 4
  },
  {
   "metadata": {
    "ExecuteTime": {
     "end_time": "2025-06-07T02:03:58.463845Z",
     "start_time": "2025-06-07T02:03:57.132590Z"
    }
   },
   "cell_type": "code",
   "source": [
    "tokenizer = BertTokenizer.from_pretrained('bert-base-uncased')\n",
    "\n",
    "MAX_LEN = 128\n",
    "\n",
    "def tokenize(texts):\n",
    "    return tokenizer(\n",
    "        list(texts),\n",
    "        padding='max_length',\n",
    "        truncation=True,\n",
    "        max_length=MAX_LEN,\n",
    "        return_tensors='pt'\n",
    "    )"
   ],
   "id": "e427776a0677262b",
   "outputs": [],
   "execution_count": 7
  },
  {
   "metadata": {
    "ExecuteTime": {
     "end_time": "2025-06-07T02:03:58.477779Z",
     "start_time": "2025-06-07T02:03:58.474917Z"
    }
   },
   "cell_type": "code",
   "source": [
    "class TweetDataset(Dataset):\n",
    "    def __init__(self, texts, targets=None):\n",
    "        self.encodings = tokenize(texts)\n",
    "        self.targets = targets\n",
    "\n",
    "    def __len__(self):\n",
    "        return len(self.encodings['input_ids'])\n",
    "\n",
    "    def __getitem__(self, idx):\n",
    "        item = {key: val[idx] for key, val in self.encodings.items()}\n",
    "        if self.targets is not None:\n",
    "            item['labels'] = torch.tensor(self.targets[idx], dtype=torch.long)\n",
    "        return item"
   ],
   "id": "a63984f9c5611844",
   "outputs": [],
   "execution_count": 8
  },
  {
   "metadata": {
    "ExecuteTime": {
     "end_time": "2025-06-07T02:04:09.030389Z",
     "start_time": "2025-06-07T02:04:09.021679Z"
    }
   },
   "cell_type": "code",
   "source": [
    "class BERTClassifier(nn.Module):\n",
    "    def __init__(self):\n",
    "        super(BERTClassifier, self).__init__()\n",
    "        self.bert = BertModel.from_pretrained('bert-base-uncased')\n",
    "        self.dropout = nn.Dropout(0.3)\n",
    "        self.fc = nn.Linear(self.bert.config.hidden_size, 2)\n",
    "\n",
    "    def forward(self, input_ids, attention_mask):\n",
    "        output = self.bert(input_ids=input_ids, attention_mask=attention_mask)\n",
    "        pooled = output.pooler_output\n",
    "        x = self.dropout(pooled)\n",
    "        return self.fc(x)"
   ],
   "id": "f4f766c1727b4e0b",
   "outputs": [],
   "execution_count": 9
  },
  {
   "metadata": {
    "ExecuteTime": {
     "end_time": "2025-06-07T02:04:23.469310Z",
     "start_time": "2025-06-07T02:04:21.249685Z"
    }
   },
   "cell_type": "code",
   "source": [
    "X_train, X_val, y_train, y_val = train_test_split(\n",
    "    train_df['text'], train_df['target'], test_size=0.1, stratify=train_df['target'], random_state=42\n",
    ")\n",
    "\n",
    "train_dataset = TweetDataset(X_train.tolist(), y_train.tolist())\n",
    "val_dataset = TweetDataset(X_val.tolist(), y_val.tolist())\n",
    "\n",
    "train_loader = DataLoader(train_dataset, batch_size=16, shuffle=True)\n",
    "val_loader = DataLoader(val_dataset, batch_size=16, shuffle=False)"
   ],
   "id": "8fdc7887c4f8c491",
   "outputs": [],
   "execution_count": 10
  },
  {
   "metadata": {
    "ExecuteTime": {
     "end_time": "2025-06-07T02:05:24.511196Z",
     "start_time": "2025-06-07T02:05:24.465711Z"
    }
   },
   "cell_type": "code",
   "source": [
    "import torch\n",
    "\n",
    "if torch.backends.mps.is_available():\n",
    "    device = torch.device(\"mps\")\n",
    "elif torch.cuda.is_available():\n",
    "    device = torch.device(\"cuda\")\n",
    "else:\n",
    "    device = torch.device(\"cpu\")\n",
    "\n",
    "print(f\"Using device: {device}\")\n"
   ],
   "id": "3f85643bdd65ac73",
   "outputs": [
    {
     "name": "stdout",
     "output_type": "stream",
     "text": [
      "Using device: mps\n"
     ]
    }
   ],
   "execution_count": 11
  },
  {
   "metadata": {
    "ExecuteTime": {
     "end_time": "2025-06-07T02:06:42.738346Z",
     "start_time": "2025-06-07T02:06:42.731430Z"
    }
   },
   "cell_type": "code",
   "source": [
    "def train(model, loader, optimizer, criterion, device):\n",
    "    model.train()\n",
    "    total_loss = 0\n",
    "    for batch in loader:\n",
    "        optimizer.zero_grad()\n",
    "        input_ids = batch['input_ids'].to(device)\n",
    "        attention_mask = batch['attention_mask'].to(device)\n",
    "        labels = batch['labels'].to(device)\n",
    "\n",
    "        outputs = model(input_ids, attention_mask)\n",
    "        loss = criterion(outputs, labels)\n",
    "        loss.backward()\n",
    "        optimizer.step()\n",
    "        total_loss += loss.item()\n",
    "    return total_loss / len(loader)"
   ],
   "id": "c0f72ff4902e644f",
   "outputs": [],
   "execution_count": 12
  },
  {
   "metadata": {
    "ExecuteTime": {
     "end_time": "2025-06-07T02:06:56.750268Z",
     "start_time": "2025-06-07T02:06:56.744095Z"
    }
   },
   "cell_type": "code",
   "source": [
    "def evaluate(model, loader, device):\n",
    "    model.eval()\n",
    "    predictions, targets = [], []\n",
    "    with torch.no_grad():\n",
    "        for batch in loader:\n",
    "            input_ids = batch['input_ids'].to(device)\n",
    "            attention_mask = batch['attention_mask'].to(device)\n",
    "            labels = batch['labels'].to(device)\n",
    "\n",
    "            outputs = model(input_ids, attention_mask)\n",
    "            preds = torch.argmax(outputs, dim=1)\n",
    "            predictions.extend(preds.cpu().numpy())\n",
    "            targets.extend(labels.cpu().numpy())\n",
    "    return accuracy_score(targets, predictions), f1_score(targets, predictions)"
   ],
   "id": "171d1110332cc8ff",
   "outputs": [],
   "execution_count": 13
  },
  {
   "metadata": {
    "ExecuteTime": {
     "end_time": "2025-06-07T02:17:41.617022Z",
     "start_time": "2025-06-07T02:07:36.712409Z"
    }
   },
   "cell_type": "code",
   "source": [
    "device = torch.device(device)\n",
    "model = BERTClassifier().to(device)\n",
    "\n",
    "optimizer = torch.optim.AdamW(model.parameters(), lr=2e-5)\n",
    "criterion = nn.CrossEntropyLoss()\n",
    "\n",
    "for epoch in range(3):\n",
    "    loss = train(model, train_loader, optimizer, criterion, device)\n",
    "    acc, f1 = evaluate(model, val_loader, device)\n",
    "    print(f\"Epoch {epoch+1} - Loss: {loss:.4f} | Val Acc: {acc:.4f} | Val F1: {f1:.4f}\")\n"
   ],
   "id": "1d5bd49d81018f50",
   "outputs": [
    {
     "name": "stdout",
     "output_type": "stream",
     "text": [
      "Epoch 1 - Loss: 0.4569 | Val Acc: 0.8268 | Val F1: 0.8018\n",
      "Epoch 2 - Loss: 0.3286 | Val Acc: 0.8255 | Val F1: 0.8018\n",
      "Epoch 3 - Loss: 0.2311 | Val Acc: 0.8451 | Val F1: 0.7986\n"
     ]
    }
   ],
   "execution_count": 14
  },
  {
   "metadata": {
    "ExecuteTime": {
     "end_time": "2025-06-07T02:20:15.220913Z",
     "start_time": "2025-06-07T02:19:51.713072Z"
    }
   },
   "cell_type": "code",
   "source": [
    "test_dataset = TweetDataset(test_df['text'].tolist())\n",
    "test_loader = DataLoader(test_dataset, batch_size=16)\n",
    "\n",
    "model.eval()\n",
    "all_preds = []\n",
    "\n",
    "with torch.no_grad():\n",
    "    for batch in test_loader:\n",
    "        input_ids = batch['input_ids'].to(device)\n",
    "        attention_mask = batch['attention_mask'].to(device)\n",
    "        outputs = model(input_ids, attention_mask)\n",
    "        preds = torch.argmax(outputs, dim=1)\n",
    "        all_preds.extend(preds.cpu().numpy())"
   ],
   "id": "145218e74afa6a9d",
   "outputs": [],
   "execution_count": 15
  },
  {
   "metadata": {
    "ExecuteTime": {
     "end_time": "2025-06-07T02:20:17.462456Z",
     "start_time": "2025-06-07T02:20:17.445358Z"
    }
   },
   "cell_type": "code",
   "source": [
    "submission = pd.DataFrame({\n",
    "    'id': test_df['id'],\n",
    "    'target': all_preds\n",
    "})\n",
    "submission.to_csv('submission.csv', index=False)"
   ],
   "id": "1909614bb7b713c4",
   "outputs": [],
   "execution_count": 16
  },
  {
   "metadata": {},
   "cell_type": "code",
   "outputs": [],
   "execution_count": null,
   "source": "",
   "id": "5f83496c290510aa"
  }
 ],
 "metadata": {
  "kernelspec": {
   "display_name": "Python 3",
   "language": "python",
   "name": "python3"
  },
  "language_info": {
   "codemirror_mode": {
    "name": "ipython",
    "version": 2
   },
   "file_extension": ".py",
   "mimetype": "text/x-python",
   "name": "python",
   "nbconvert_exporter": "python",
   "pygments_lexer": "ipython2",
   "version": "2.7.6"
  }
 },
 "nbformat": 4,
 "nbformat_minor": 5
}
