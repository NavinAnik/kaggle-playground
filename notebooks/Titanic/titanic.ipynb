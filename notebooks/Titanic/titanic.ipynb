{
 "cells": [
  {
   "cell_type": "code",
   "id": "initial_id",
   "metadata": {
    "collapsed": true,
    "ExecuteTime": {
     "end_time": "2025-05-19T18:54:02.026850Z",
     "start_time": "2025-05-19T18:53:59.451988Z"
    }
   },
   "source": [
    "# Install core packages, Jupyter tools, ML libraries, and Kaggle API\n",
    "!pip install kaggle\n"
   ],
   "outputs": [
    {
     "name": "stdout",
     "output_type": "stream",
     "text": [
      "Requirement already satisfied: kaggle in c:\\users\\smnav\\appdata\\local\\programs\\python\\python311\\lib\\site-packages (1.7.4.5)\n",
      "Requirement already satisfied: bleach in c:\\users\\smnav\\appdata\\local\\programs\\python\\python311\\lib\\site-packages (from kaggle) (6.2.0)\n",
      "Requirement already satisfied: certifi>=14.05.14 in c:\\users\\smnav\\appdata\\local\\programs\\python\\python311\\lib\\site-packages (from kaggle) (2025.4.26)\n",
      "Requirement already satisfied: charset-normalizer in c:\\users\\smnav\\appdata\\local\\programs\\python\\python311\\lib\\site-packages (from kaggle) (3.4.2)\n",
      "Requirement already satisfied: idna in c:\\users\\smnav\\appdata\\local\\programs\\python\\python311\\lib\\site-packages (from kaggle) (3.10)\n",
      "Requirement already satisfied: protobuf in c:\\users\\smnav\\appdata\\local\\programs\\python\\python311\\lib\\site-packages (from kaggle) (5.29.4)\n",
      "Requirement already satisfied: python-dateutil>=2.5.3 in c:\\users\\smnav\\appdata\\local\\programs\\python\\python311\\lib\\site-packages (from kaggle) (2.9.0.post0)\n",
      "Requirement already satisfied: python-slugify in c:\\users\\smnav\\appdata\\local\\programs\\python\\python311\\lib\\site-packages (from kaggle) (8.0.4)\n",
      "Requirement already satisfied: requests in c:\\users\\smnav\\appdata\\local\\programs\\python\\python311\\lib\\site-packages (from kaggle) (2.32.3)\n",
      "Requirement already satisfied: setuptools>=21.0.0 in c:\\users\\smnav\\appdata\\local\\programs\\python\\python311\\lib\\site-packages (from kaggle) (78.1.0)\n",
      "Requirement already satisfied: six>=1.10 in c:\\users\\smnav\\appdata\\local\\programs\\python\\python311\\lib\\site-packages (from kaggle) (1.17.0)\n",
      "Requirement already satisfied: text-unidecode in c:\\users\\smnav\\appdata\\local\\programs\\python\\python311\\lib\\site-packages (from kaggle) (1.3)\n",
      "Requirement already satisfied: tqdm in c:\\users\\smnav\\appdata\\local\\programs\\python\\python311\\lib\\site-packages (from kaggle) (4.67.1)\n",
      "Requirement already satisfied: urllib3>=1.15.1 in c:\\users\\smnav\\appdata\\local\\programs\\python\\python311\\lib\\site-packages (from kaggle) (2.4.0)\n",
      "Requirement already satisfied: webencodings in c:\\users\\smnav\\appdata\\local\\programs\\python\\python311\\lib\\site-packages (from kaggle) (0.5.1)\n",
      "Requirement already satisfied: colorama in c:\\users\\smnav\\appdata\\local\\programs\\python\\python311\\lib\\site-packages (from tqdm->kaggle) (0.4.6)\n"
     ]
    }
   ],
   "execution_count": 12
  },
  {
   "metadata": {
    "ExecuteTime": {
     "end_time": "2025-05-19T18:54:31.589868Z",
     "start_time": "2025-05-19T18:54:30.793141Z"
    }
   },
   "cell_type": "code",
   "source": [
    "from utils import download_kaggle_dataset\n",
    "download_kaggle_dataset(\n",
    "    \"https://www.kaggle.com/competitions/titanic/data\",\n",
    "    \"titanic.zip\",\n",
    "    \"titanic\")"
   ],
   "id": "2fe34c4ec4f3ee26",
   "outputs": [
    {
     "ename": "OSError",
     "evalue": "Could not find kaggle.json. Make sure it's located in C:\\Users\\smnav\\.kaggle. Or use the environment method. See setup instructions at https://github.com/Kaggle/kaggle-api/",
     "output_type": "error",
     "traceback": [
      "\u001B[31m---------------------------------------------------------------------------\u001B[39m",
      "\u001B[31mOSError\u001B[39m                                   Traceback (most recent call last)",
      "\u001B[36mCell\u001B[39m\u001B[36m \u001B[39m\u001B[32mIn[14]\u001B[39m\u001B[32m, line 1\u001B[39m\n\u001B[32m----> \u001B[39m\u001B[32m1\u001B[39m \u001B[38;5;28;01mfrom\u001B[39;00m\u001B[38;5;250m \u001B[39m\u001B[34;01mutils\u001B[39;00m\u001B[38;5;250m \u001B[39m\u001B[38;5;28;01mimport\u001B[39;00m download_kaggle_dataset\n\u001B[32m      2\u001B[39m download_kaggle_dataset(\n\u001B[32m      3\u001B[39m     \u001B[33m\"\u001B[39m\u001B[33mhttps://www.kaggle.com/competitions/titanic/data\u001B[39m\u001B[33m\"\u001B[39m,\n\u001B[32m      4\u001B[39m     \u001B[33m\"\u001B[39m\u001B[33mtitanic.zip\u001B[39m\u001B[33m\"\u001B[39m,\n\u001B[32m      5\u001B[39m     \u001B[33m\"\u001B[39m\u001B[33mtitanic\u001B[39m\u001B[33m\"\u001B[39m)\n",
      "\u001B[36mFile \u001B[39m\u001B[32mF:\\Codes\\kaggle-playground\\utils\\download_kaggle_dataset.py:3\u001B[39m\n\u001B[32m      1\u001B[39m \u001B[38;5;28;01mimport\u001B[39;00m\u001B[38;5;250m \u001B[39m\u001B[34;01mos\u001B[39;00m\n\u001B[32m      2\u001B[39m \u001B[38;5;28;01mimport\u001B[39;00m\u001B[38;5;250m \u001B[39m\u001B[34;01mzipfile\u001B[39;00m\n\u001B[32m----> \u001B[39m\u001B[32m3\u001B[39m \u001B[38;5;28;01mfrom\u001B[39;00m\u001B[38;5;250m \u001B[39m\u001B[34;01mkaggle\u001B[39;00m\u001B[34;01m.\u001B[39;00m\u001B[34;01mapi\u001B[39;00m\u001B[34;01m.\u001B[39;00m\u001B[34;01mkaggle_api_extended\u001B[39;00m\u001B[38;5;250m \u001B[39m\u001B[38;5;28;01mimport\u001B[39;00m KaggleApi\n\u001B[32m      5\u001B[39m \u001B[38;5;28;01mdef\u001B[39;00m\u001B[38;5;250m \u001B[39m\u001B[34mdownload_kaggle_dataset\u001B[39m(dataset_slug, download_path=\u001B[33m\"\u001B[39m\u001B[33mdatasets\u001B[39m\u001B[33m\"\u001B[39m, unzip=\u001B[38;5;28;01mTrue\u001B[39;00m):\n\u001B[32m      6\u001B[39m \u001B[38;5;250m    \u001B[39m\u001B[33;03m\"\"\"\u001B[39;00m\n\u001B[32m      7\u001B[39m \u001B[33;03m    Downloads a Kaggle dataset using the Kaggle API.\u001B[39;00m\n\u001B[32m      8\u001B[39m \n\u001B[32m   (...)\u001B[39m\u001B[32m     12\u001B[39m \u001B[33;03m    - unzip (bool): Whether to unzip the downloaded file\u001B[39;00m\n\u001B[32m     13\u001B[39m \u001B[33;03m    \"\"\"\u001B[39;00m\n",
      "\u001B[36mFile \u001B[39m\u001B[32m~\\AppData\\Local\\Programs\\Python\\Python313\\Lib\\site-packages\\kaggle\\__init__.py:6\u001B[39m\n\u001B[32m      3\u001B[39m \u001B[38;5;28;01mfrom\u001B[39;00m\u001B[38;5;250m \u001B[39m\u001B[34;01mkaggle\u001B[39;00m\u001B[34;01m.\u001B[39;00m\u001B[34;01mapi\u001B[39;00m\u001B[34;01m.\u001B[39;00m\u001B[34;01mkaggle_api_extended\u001B[39;00m\u001B[38;5;250m \u001B[39m\u001B[38;5;28;01mimport\u001B[39;00m KaggleApi\n\u001B[32m      5\u001B[39m api = KaggleApi()\n\u001B[32m----> \u001B[39m\u001B[32m6\u001B[39m \u001B[43mapi\u001B[49m\u001B[43m.\u001B[49m\u001B[43mauthenticate\u001B[49m\u001B[43m(\u001B[49m\u001B[43m)\u001B[49m\n",
      "\u001B[36mFile \u001B[39m\u001B[32m~\\AppData\\Local\\Programs\\Python\\Python313\\Lib\\site-packages\\kaggle\\api\\kaggle_api_extended.py:434\u001B[39m, in \u001B[36mKaggleApi.authenticate\u001B[39m\u001B[34m(self)\u001B[39m\n\u001B[32m    432\u001B[39m     \u001B[38;5;28;01mreturn\u001B[39;00m\n\u001B[32m    433\u001B[39m   \u001B[38;5;28;01melse\u001B[39;00m:\n\u001B[32m--> \u001B[39m\u001B[32m434\u001B[39m     \u001B[38;5;28;01mraise\u001B[39;00m \u001B[38;5;167;01mIOError\u001B[39;00m(\u001B[33m'\u001B[39m\u001B[33mCould not find \u001B[39m\u001B[38;5;132;01m{}\u001B[39;00m\u001B[33m. Make sure it\u001B[39m\u001B[38;5;130;01m\\'\u001B[39;00m\u001B[33ms located in\u001B[39m\u001B[33m'\u001B[39m\n\u001B[32m    435\u001B[39m                   \u001B[33m'\u001B[39m\u001B[33m \u001B[39m\u001B[38;5;132;01m{}\u001B[39;00m\u001B[33m. Or use the environment method. See setup\u001B[39m\u001B[33m'\u001B[39m\n\u001B[32m    436\u001B[39m                   \u001B[33m'\u001B[39m\u001B[33m instructions at\u001B[39m\u001B[33m'\u001B[39m\n\u001B[32m    437\u001B[39m                   \u001B[33m'\u001B[39m\u001B[33m https://github.com/Kaggle/kaggle-api/\u001B[39m\u001B[33m'\u001B[39m.format(\n\u001B[32m    438\u001B[39m                       \u001B[38;5;28mself\u001B[39m.config_file, \u001B[38;5;28mself\u001B[39m.config_dir))\n\u001B[32m    440\u001B[39m \u001B[38;5;66;03m# Step 3: load into configuration!\u001B[39;00m\n\u001B[32m    441\u001B[39m \u001B[38;5;28mself\u001B[39m._load_config(config_data)\n",
      "\u001B[31mOSError\u001B[39m: Could not find kaggle.json. Make sure it's located in C:\\Users\\smnav\\.kaggle. Or use the environment method. See setup instructions at https://github.com/Kaggle/kaggle-api/"
     ]
    }
   ],
   "execution_count": 14
  },
  {
   "metadata": {},
   "cell_type": "code",
   "outputs": [],
   "execution_count": null,
   "source": "",
   "id": "411baf73b682a082"
  }
 ],
 "metadata": {
  "kernelspec": {
   "display_name": "Python 3",
   "language": "python",
   "name": "python3"
  },
  "language_info": {
   "codemirror_mode": {
    "name": "ipython",
    "version": 2
   },
   "file_extension": ".py",
   "mimetype": "text/x-python",
   "name": "python",
   "nbconvert_exporter": "python",
   "pygments_lexer": "ipython2",
   "version": "2.7.6"
  }
 },
 "nbformat": 4,
 "nbformat_minor": 5
}
