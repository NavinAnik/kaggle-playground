{
 "cells": [
  {
   "cell_type": "code",
   "id": "initial_id",
   "metadata": {
    "collapsed": true,
    "ExecuteTime": {
     "end_time": "2025-05-22T13:38:20.546484Z",
     "start_time": "2025-05-22T13:38:20.541990Z"
    }
   },
   "source": [
    "from utils.download_kaggle_dataset import download_kaggle_competition\n",
    "import pandas as pd\n",
    "from sklearn.model_selection import train_test_split\n",
    "from transformers import AutoTokenizer, AutoModelForSequenceClassification, Trainer, TrainingArguments\n",
    "import torch\n",
    "from torch.utils.data import Dataset"
   ],
   "outputs": [],
   "execution_count": 21
  },
  {
   "metadata": {
    "ExecuteTime": {
     "end_time": "2025-05-22T13:38:31.246920Z",
     "start_time": "2025-05-22T13:38:20.558006Z"
    }
   },
   "cell_type": "code",
   "source": [
    "data = download_kaggle_competition(\"llm-classification-finetuning\")\n",
    "train_df = pd.read_csv(f\"{data}/train.csv\")\n",
    "test_df = pd.read_csv(f\"{data}/test.csv\")\n",
    "sample_sub = pd.read_csv(f\"{data}/sample_submission.csv\")"
   ],
   "id": "2c342fc07331f82e",
   "outputs": [
    {
     "name": "stdout",
     "output_type": "stream",
     "text": [
      "Downloading competition data: llm-classification-finetuning\n",
      "Unzipping files...\n",
      "Competition data downloaded to: datasets\n"
     ]
    }
   ],
   "execution_count": 22
  },
  {
   "metadata": {
    "ExecuteTime": {
     "end_time": "2025-05-22T13:38:31.617796Z",
     "start_time": "2025-05-22T13:38:31.267317Z"
    }
   },
   "cell_type": "code",
   "source": [
    "def get_label(row):\n",
    "    if row[\"winner_model_a\"]:\n",
    "        return 0  \n",
    "    elif row[\"winner_model_b\"]:\n",
    "        return 1  \n",
    "    else:\n",
    "        return 2 \n",
    "\n",
    "train_df[\"label\"] = train_df.apply(get_label, axis=1)\n",
    "train_split, val_split = train_test_split(train_df, test_size=0.1, stratify=train_df[\"label\"], random_state=42)"
   ],
   "id": "cf4212411439c79b",
   "outputs": [],
   "execution_count": 23
  },
  {
   "metadata": {
    "ExecuteTime": {
     "end_time": "2025-05-22T13:38:32.532456Z",
     "start_time": "2025-05-22T13:38:31.637014Z"
    }
   },
   "cell_type": "code",
   "source": [
    "from transformers import AutoTokenizer\n",
    "\n",
    "model_name = \"distilbert-base-uncased\"\n",
    "tokenizer = AutoTokenizer.from_pretrained(model_name)\n",
    "\n",
    "def tokenize(example):\n",
    "    return tokenizer(\n",
    "        example[\"prompt\"] + \" </s> \" + example[\"response_a\"] + \" </s> \" + example[\"response_b\"],\n",
    "        padding=\"max_length\",\n",
    "        truncation=True,\n",
    "        max_length=512,\n",
    "    )"
   ],
   "id": "4211fb824e91262e",
   "outputs": [],
   "execution_count": 24
  },
  {
   "metadata": {
    "ExecuteTime": {
     "end_time": "2025-05-22T13:38:33.079113Z",
     "start_time": "2025-05-22T13:38:32.552086Z"
    }
   },
   "cell_type": "code",
   "source": [
    "class LLMTrainDataset(Dataset):\n",
    "    def __init__(self, df):\n",
    "        self.texts = df.apply(lambda row: f\"{row['prompt']} </s> {row['response_a']} </s> {row['response_b']}\", axis=1)\n",
    "        self.labels = df[\"label\"].tolist()\n",
    "\n",
    "    def __len__(self):\n",
    "        return len(self.labels)\n",
    "\n",
    "    def __getitem__(self, idx):\n",
    "        encoding = tokenizer(self.texts.iloc[idx], truncation=True, padding=\"max_length\", max_length=512, return_tensors=\"pt\")\n",
    "        return {\n",
    "            \"input_ids\": encoding[\"input_ids\"].squeeze(),\n",
    "            \"attention_mask\": encoding[\"attention_mask\"].squeeze(),\n",
    "            \"labels\": torch.tensor(self.labels[idx], dtype=torch.long),\n",
    "        }\n",
    "\n",
    "train_dataset = LLMTrainDataset(train_split)\n",
    "val_dataset = LLMTrainDataset(val_split)"
   ],
   "id": "ed47de9c668e9577",
   "outputs": [],
   "execution_count": 25
  },
  {
   "metadata": {
    "jupyter": {
     "is_executing": true
    },
    "ExecuteTime": {
     "start_time": "2025-05-22T13:38:33.098692Z"
    }
   },
   "cell_type": "code",
   "source": [
    "model = AutoModelForSequenceClassification.from_pretrained(model_name, num_labels=3)\n",
    "device = torch.device(\"cuda\" if torch.cuda.is_available() else \"cpu\")\n",
    "print(f\"Using device: {device}\")\n",
    "model = model.to(device)\n",
    "\n",
    "training_args = TrainingArguments(\n",
    "    output_dir=\"./results\",\n",
    "    per_device_train_batch_size=8,\n",
    "    per_device_eval_batch_size=8,\n",
    "    num_train_epochs=3,\n",
    "    logging_dir=\"./logs\",\n",
    "    learning_rate=2e-5,\n",
    "    weight_decay=0.01,\n",
    "    save_total_limit=2,\n",
    "    logging_steps=10,\n",
    "    disable_tqdm=False\n",
    ")\n",
    "\n",
    "trainer = Trainer(\n",
    "    model=model,\n",
    "    args=training_args,\n",
    "    train_dataset=train_dataset,\n",
    "    eval_dataset=val_dataset,\n",
    ")\n",
    "\n",
    "trainer.train()"
   ],
   "id": "ed9c8fc2165a2216",
   "outputs": [
    {
     "name": "stderr",
     "output_type": "stream",
     "text": [
      "Some weights of DistilBertForSequenceClassification were not initialized from the model checkpoint at distilbert-base-uncased and are newly initialized: ['classifier.bias', 'classifier.weight', 'pre_classifier.bias', 'pre_classifier.weight']\n",
      "You should probably TRAIN this model on a down-stream task to be able to use it for predictions and inference.\n"
     ]
    },
    {
     "name": "stdout",
     "output_type": "stream",
     "text": [
      "Using device: cpu\n"
     ]
    },
    {
     "name": "stderr",
     "output_type": "stream",
     "text": [
      "F:\\Codes\\kaggle-playground\\venv\\Lib\\site-packages\\torch\\utils\\data\\dataloader.py:665: UserWarning: 'pin_memory' argument is set as true but no accelerator is found, then device pinned memory won't be used.\n",
      "  warnings.warn(warn_msg)\n"
     ]
    },
    {
     "data": {
      "text/plain": [
       "<IPython.core.display.HTML object>"
      ],
      "text/html": [
       "\n",
       "    <div>\n",
       "      \n",
       "      <progress value='4' max='19401' style='width:300px; height:20px; vertical-align: middle;'></progress>\n",
       "      [    4/19401 00:14 < 39:12:02, 0.14 it/s, Epoch 0.00/3]\n",
       "    </div>\n",
       "    <table border=\"1\" class=\"dataframe\">\n",
       "  <thead>\n",
       " <tr style=\"text-align: left;\">\n",
       "      <th>Step</th>\n",
       "      <th>Training Loss</th>\n",
       "    </tr>\n",
       "  </thead>\n",
       "  <tbody>\n",
       "  </tbody>\n",
       "</table><p>"
      ]
     },
     "metadata": {},
     "output_type": "display_data"
    }
   ],
   "execution_count": null
  },
  {
   "metadata": {},
   "cell_type": "code",
   "outputs": [],
   "execution_count": null,
   "source": [
    "class LLMTestDataset(Dataset):\n",
    "    def __init__(self, df):\n",
    "        self.texts = df.apply(lambda row: f\"{row['prompt']} </s> {row['response_a']} </s> {row['response_b']}\", axis=1)\n",
    "\n",
    "    def __len__(self):\n",
    "        return len(self.texts)\n",
    "\n",
    "    def __getitem__(self, idx):\n",
    "        encoding = tokenizer(self.texts.iloc[idx], truncation=True, padding=\"max_length\", max_length=512, return_tensors=\"pt\")\n",
    "        return {\n",
    "            \"input_ids\": encoding[\"input_ids\"].squeeze(),\n",
    "            \"attention_mask\": encoding[\"attention_mask\"].squeeze(),\n",
    "        }\n",
    "\n",
    "test_dataset = LLMTestDataset(test_df)\n",
    "\n",
    "preds = trainer.predict(test_dataset).predictions\n",
    "pred_labels = preds.argmax(axis=1)\n",
    "\n",
    "submission_df = pd.DataFrame({\n",
    "    \"id\": test_df[\"id\"],\n",
    "    \"winner_model_a\": (pred_labels == 0).astype(int),\n",
    "    \"winner_model_b\": (pred_labels == 1).astype(int),\n",
    "    \"winner_tie\": (pred_labels == 2).astype(int),\n",
    "})\n",
    "\n",
    "submission_df.to_csv(\"submission.csv\", index=False)"
   ],
   "id": "25dfb9ed02f964"
  }
 ],
 "metadata": {
  "kernelspec": {
   "display_name": "Python 3",
   "language": "python",
   "name": "python3"
  },
  "language_info": {
   "codemirror_mode": {
    "name": "ipython",
    "version": 2
   },
   "file_extension": ".py",
   "mimetype": "text/x-python",
   "name": "python",
   "nbconvert_exporter": "python",
   "pygments_lexer": "ipython2",
   "version": "2.7.6"
  }
 },
 "nbformat": 4,
 "nbformat_minor": 5
}
