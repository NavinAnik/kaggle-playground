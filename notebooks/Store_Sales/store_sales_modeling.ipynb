{
 "cells": [
  {
   "cell_type": "code",
   "id": "initial_id",
   "metadata": {
    "collapsed": true,
    "ExecuteTime": {
     "end_time": "2025-05-21T13:02:02.759328Z",
     "start_time": "2025-05-21T13:02:01.046608Z"
    }
   },
   "source": [
    "from utils.download_kaggle_dataset import download_kaggle_competition\n",
    "import pandas as pd\n",
    "import numpy as np\n",
    "from sklearn.model_selection import train_test_split\n",
    "from sklearn.metrics import mean_squared_log_error\n",
    "from sklearn.preprocessing import OrdinalEncoder, StandardScaler\n",
    "from pytorch_tabnet.tab_model import TabNetRegressor\n",
    "import torch\n",
    "import torch.nn as nn\n",
    "from torch.utils.data import DataLoader, TensorDataset"
   ],
   "outputs": [],
   "execution_count": 29
  },
  {
   "metadata": {
    "ExecuteTime": {
     "end_time": "2025-05-21T12:43:21.496331Z",
     "start_time": "2025-05-21T12:43:15.921067Z"
    }
   },
   "cell_type": "code",
   "source": [
    "data = download_kaggle_competition(\"store-sales-time-series-forecasting\")\n",
    "print(data)"
   ],
   "id": "35143e5aff45ca0d",
   "outputs": [
    {
     "name": "stdout",
     "output_type": "stream",
     "text": [
      "Downloading competition data: store-sales-time-series-forecasting\n",
      "Unzipping files...\n",
      "Competition data downloaded to: datasets\n",
      "datasets\n"
     ]
    }
   ],
   "execution_count": 4
  },
  {
   "metadata": {
    "ExecuteTime": {
     "end_time": "2025-05-21T12:54:57.758367Z",
     "start_time": "2025-05-21T12:54:55.762260Z"
    }
   },
   "cell_type": "code",
   "source": [
    "train_df = pd.read_csv(f\"{data}/train.csv\", parse_dates=['date'])\n",
    "test_df = pd.read_csv(f\"{data}/test.csv\", parse_dates=['date'])\n",
    "stores_df = pd.read_csv(f\"{data}/stores.csv\")\n",
    "oil_df = pd.read_csv(f\"{data}/oil.csv\", parse_dates=['date'])\n",
    "\n",
    "train_df = train_df.merge(stores_df, on='store_nbr', how='left')\n",
    "test_df = test_df.merge(stores_df, on='store_nbr', how='left')\n",
    "\n",
    "oil_df = oil_df.sort_values('date').fillna(method='ffill')\n",
    "train_df = train_df.merge(oil_df, on='date', how='left')\n",
    "test_df = test_df.merge(oil_df, on='date', how='left')\n"
   ],
   "id": "a2fc224abfab888c",
   "outputs": [
    {
     "name": "stderr",
     "output_type": "stream",
     "text": [
      "C:\\Users\\smnav\\AppData\\Local\\Temp\\ipykernel_7184\\3469784253.py:11: FutureWarning: DataFrame.fillna with 'method' is deprecated and will raise in a future version. Use obj.ffill() or obj.bfill() instead.\n",
      "  oil_df = oil_df.sort_values('date').fillna(method='ffill')\n"
     ]
    }
   ],
   "execution_count": 20
  },
  {
   "metadata": {
    "ExecuteTime": {
     "end_time": "2025-05-21T12:55:18.046624Z",
     "start_time": "2025-05-21T12:55:17.630841Z"
    }
   },
   "cell_type": "code",
   "source": [
    "for df in [train_df, test_df]:\n",
    "    df['day'] = df['date'].dt.day\n",
    "    df['month'] = df['date'].dt.month\n",
    "    df['year'] = df['date'].dt.year\n",
    "    df['dow'] = df['date'].dt.dayofweek"
   ],
   "id": "b10aed0292674fc7",
   "outputs": [],
   "execution_count": 21
  },
  {
   "metadata": {
    "ExecuteTime": {
     "end_time": "2025-05-21T12:55:29.882356Z",
     "start_time": "2025-05-21T12:55:29.827614Z"
    }
   },
   "cell_type": "code",
   "source": [
    "train_df['sales'] = train_df['sales'].clip(lower=0)\n",
    "train_df['sales_log'] = np.log1p(train_df['sales'])"
   ],
   "id": "292b769b70d12919",
   "outputs": [],
   "execution_count": 22
  },
  {
   "metadata": {
    "ExecuteTime": {
     "end_time": "2025-05-21T12:55:39.838556Z",
     "start_time": "2025-05-21T12:55:39.835433Z"
    }
   },
   "cell_type": "code",
   "source": [
    "features = ['store_nbr', 'family', 'city', 'state', 'type', 'cluster',\n",
    "            'onpromotion', 'dcoilwtico', 'day', 'month', 'year', 'dow']\n",
    "target = 'sales_log'\n"
   ],
   "id": "85ffebee10de24c9",
   "outputs": [],
   "execution_count": 23
  },
  {
   "metadata": {
    "ExecuteTime": {
     "end_time": "2025-05-21T12:55:54.527609Z",
     "start_time": "2025-05-21T12:55:52.317338Z"
    }
   },
   "cell_type": "code",
   "source": [
    "categorical_cols = ['store_nbr', 'family', 'city', 'state', 'type', 'cluster']\n",
    "encoder = OrdinalEncoder(handle_unknown='use_encoded_value', unknown_value=-1)\n",
    "train_df[categorical_cols] = encoder.fit_transform(train_df[categorical_cols])\n",
    "test_df[categorical_cols] = encoder.transform(test_df[categorical_cols])"
   ],
   "id": "1eef352343162ad7",
   "outputs": [],
   "execution_count": 24
  },
  {
   "metadata": {
    "ExecuteTime": {
     "end_time": "2025-05-21T12:56:05.422351Z",
     "start_time": "2025-05-21T12:56:05.206037Z"
    }
   },
   "cell_type": "code",
   "source": [
    "train_df[features] = train_df[features].fillna(-1)\n",
    "test_df[features] = test_df[features].fillna(-1)"
   ],
   "id": "45043a3266bc7b79",
   "outputs": [],
   "execution_count": 25
  },
  {
   "metadata": {
    "ExecuteTime": {
     "end_time": "2025-05-21T12:56:19.243537Z",
     "start_time": "2025-05-21T12:56:18.347449Z"
    }
   },
   "cell_type": "code",
   "source": "X_train, X_val, y_train, y_val = train_test_split(train_df[features], train_df[target], test_size=0.2, random_state=42)\n",
   "id": "e033e68bd876a5ba",
   "outputs": [],
   "execution_count": 26
  },
  {
   "metadata": {
    "ExecuteTime": {
     "end_time": "2025-05-21T12:56:30.867733Z",
     "start_time": "2025-05-21T12:56:30.329722Z"
    }
   },
   "cell_type": "code",
   "source": [
    "scaler = StandardScaler()\n",
    "X_train_scaled = scaler.fit_transform(X_train)\n",
    "X_val_scaled = scaler.transform(X_val)"
   ],
   "id": "8558dec40467beda",
   "outputs": [],
   "execution_count": 27
  },
  {
   "metadata": {
    "ExecuteTime": {
     "end_time": "2025-05-21T13:45:29.844438Z",
     "start_time": "2025-05-21T13:02:08.343350Z"
    }
   },
   "cell_type": "code",
   "source": [
    "tabnet = TabNetRegressor(\n",
    "    n_d=16, n_a=16, n_steps=5,\n",
    "    gamma=1.5, lambda_sparse=1e-4,\n",
    "    optimizer_fn=torch.optim.Adam,\n",
    "    optimizer_params=dict(lr=2e-2),\n",
    "    verbose=0\n",
    ")\n",
    "\n",
    "tabnet.fit(\n",
    "    X_train_scaled, y_train.values.reshape(-1, 1),\n",
    "    eval_set=[(X_val_scaled, y_val.values.reshape(-1, 1))],\n",
    "    eval_metric=['rmse'],\n",
    "    max_epochs=100,\n",
    "    patience=10,\n",
    "    batch_size=2048,\n",
    "    virtual_batch_size=256\n",
    ")\n",
    "\n",
    "y_pred_tabnet = tabnet.predict(X_val_scaled).flatten()\n",
    "rmsle_tabnet = np.sqrt(mean_squared_log_error(np.expm1(y_val), np.expm1(y_pred_tabnet)))\n",
    "print(f\"✅ TabNet RMSLE: {rmsle_tabnet:.4f}\")"
   ],
   "id": "eab7ae995ae082df",
   "outputs": [
    {
     "name": "stdout",
     "output_type": "stream",
     "text": [
      "\n",
      "Early stopping occurred at epoch 19 with best_epoch = 9 and best_val_0_rmse = 0.87058\n"
     ]
    },
    {
     "name": "stderr",
     "output_type": "stream",
     "text": [
      "F:\\Codes\\kaggle-playground\\venv\\Lib\\site-packages\\pytorch_tabnet\\callbacks.py:172: UserWarning: Best weights from best epoch are automatically used!\n",
      "  warnings.warn(wrn_msg)\n"
     ]
    },
    {
     "name": "stdout",
     "output_type": "stream",
     "text": [
      "✅ TabNet RMSLE: 0.8706\n"
     ]
    }
   ],
   "execution_count": 30
  }
 ],
 "metadata": {
  "kernelspec": {
   "display_name": "Python 3",
   "language": "python",
   "name": "python3"
  },
  "language_info": {
   "codemirror_mode": {
    "name": "ipython",
    "version": 2
   },
   "file_extension": ".py",
   "mimetype": "text/x-python",
   "name": "python",
   "nbconvert_exporter": "python",
   "pygments_lexer": "ipython2",
   "version": "2.7.6"
  }
 },
 "nbformat": 4,
 "nbformat_minor": 5
}
